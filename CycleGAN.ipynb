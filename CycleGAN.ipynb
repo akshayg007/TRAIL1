{
 "cells": [
  {
   "cell_type": "markdown",
   "metadata": {
    "id": "5VIGyIus8Vr7"
   },
   "source": [
    "Take a look at the [repository](https://github.com/junyanz/pytorch-CycleGAN-and-pix2pix) for more information"
   ]
  },
  {
   "cell_type": "markdown",
   "metadata": {
    "id": "7wNjDKdQy35h"
   },
   "source": [
    "# Install"
   ]
  },
  {
   "cell_type": "code",
   "execution_count": 1,
   "metadata": {
    "colab": {
     "base_uri": "https://localhost:8080/"
    },
    "id": "TRm-USlsHgEV",
    "outputId": "b05f098f-1761-43fb-961b-d993d8fab617"
   },
   "outputs": [
    {
     "name": "stderr",
     "output_type": "stream",
     "text": [
      "Cloning into 'pytorch-CycleGAN-and-pix2pix'...\n"
     ]
    }
   ],
   "source": [
    "!git clone https://github.com/junyanz/pytorch-CycleGAN-and-pix2pix"
   ]
  },
  {
   "cell_type": "code",
   "execution_count": null,
   "metadata": {
    "id": "Pt3igws3eiVp"
   },
   "outputs": [],
   "source": [
    "import os\n",
    "os.chdir('pytorch-CycleGAN-and-pix2pix/')"
   ]
  },
  {
   "cell_type": "code",
   "execution_count": 3,
   "metadata": {
    "colab": {
     "base_uri": "https://localhost:8080/"
    },
    "id": "z1EySlOXwwoa",
    "outputId": "fcb7f832-50c3-47b4-883a-c941c5ea481f"
   },
   "outputs": [
    {
     "name": "stdout",
     "output_type": "stream",
     "text": [
      "Requirement already satisfied: torch>=1.4.0 in c:\\users\\akshay giridhar\\downloads\\anaconda\\lib\\site-packages (from -r requirements.txt (line 1)) (1.5.0+cu101)\n",
      "Requirement already satisfied: torchvision>=0.5.0 in c:\\users\\akshay giridhar\\downloads\\anaconda\\lib\\site-packages (from -r requirements.txt (line 2)) (0.8.2)\n",
      "Collecting dominate>=2.4.0\n",
      "  Downloading dominate-2.6.0-py2.py3-none-any.whl (29 kB)\n",
      "Collecting visdom>=0.1.8.8\n",
      "  Downloading visdom-0.1.8.9.tar.gz (676 kB)\n",
      "Requirement already satisfied: future in c:\\users\\akshay giridhar\\downloads\\anaconda\\lib\\site-packages (from torch>=1.4.0->-r requirements.txt (line 1)) (0.18.2)\n",
      "Requirement already satisfied: numpy in c:\\users\\akshay giridhar\\downloads\\anaconda\\lib\\site-packages (from torch>=1.4.0->-r requirements.txt (line 1)) (1.19.2)\n",
      "Requirement already satisfied: pillow>=4.1.1 in c:\\users\\akshay giridhar\\downloads\\anaconda\\lib\\site-packages (from torchvision>=0.5.0->-r requirements.txt (line 2)) (8.0.1)\n",
      "Requirement already satisfied: scipy in c:\\users\\akshay giridhar\\downloads\\anaconda\\lib\\site-packages (from visdom>=0.1.8.8->-r requirements.txt (line 4)) (1.5.2)\n",
      "Requirement already satisfied: requests in c:\\users\\akshay giridhar\\downloads\\anaconda\\lib\\site-packages (from visdom>=0.1.8.8->-r requirements.txt (line 4)) (2.24.0)\n",
      "Requirement already satisfied: tornado in c:\\users\\akshay giridhar\\downloads\\anaconda\\lib\\site-packages (from visdom>=0.1.8.8->-r requirements.txt (line 4)) (6.0.4)\n",
      "Requirement already satisfied: pyzmq in c:\\users\\akshay giridhar\\downloads\\anaconda\\lib\\site-packages (from visdom>=0.1.8.8->-r requirements.txt (line 4)) (19.0.2)\n",
      "Requirement already satisfied: six in c:\\users\\akshay giridhar\\downloads\\anaconda\\lib\\site-packages (from visdom>=0.1.8.8->-r requirements.txt (line 4)) (1.15.0)\n",
      "Collecting jsonpatch\n",
      "  Downloading jsonpatch-1.31-py2.py3-none-any.whl (12 kB)\n",
      "Collecting torchfile\n",
      "  Downloading torchfile-0.1.0.tar.gz (5.2 kB)\n",
      "Collecting websocket-client\n",
      "  Downloading websocket_client-0.58.0-py2.py3-none-any.whl (61 kB)\n",
      "Requirement already satisfied: idna<3,>=2.5 in c:\\users\\akshay giridhar\\downloads\\anaconda\\lib\\site-packages (from requests->visdom>=0.1.8.8->-r requirements.txt (line 4)) (2.10)\n",
      "Requirement already satisfied: chardet<4,>=3.0.2 in c:\\users\\akshay giridhar\\downloads\\anaconda\\lib\\site-packages (from requests->visdom>=0.1.8.8->-r requirements.txt (line 4)) (3.0.4)\n",
      "Requirement already satisfied: urllib3!=1.25.0,!=1.25.1,<1.26,>=1.21.1 in c:\\users\\akshay giridhar\\downloads\\anaconda\\lib\\site-packages (from requests->visdom>=0.1.8.8->-r requirements.txt (line 4)) (1.25.11)\n",
      "Requirement already satisfied: certifi>=2017.4.17 in c:\\users\\akshay giridhar\\downloads\\anaconda\\lib\\site-packages (from requests->visdom>=0.1.8.8->-r requirements.txt (line 4)) (2020.6.20)\n",
      "Collecting jsonpointer>=1.9\n",
      "  Downloading jsonpointer-2.0-py2.py3-none-any.whl (7.6 kB)\n",
      "Building wheels for collected packages: visdom, torchfile\n",
      "  Building wheel for visdom (setup.py): started\n",
      "  Building wheel for visdom (setup.py): finished with status 'done'\n",
      "  Created wheel for visdom: filename=visdom-0.1.8.9-py3-none-any.whl size=655256 sha256=22c7883b237a560c55c2f3ff73aa30cd6e18a7a5fd567dd7789a7d656a3eb5bf\n",
      "  Stored in directory: c:\\users\\akshay giridhar\\appdata\\local\\pip\\cache\\wheels\\6e\\f5\\76\\7906cebf407d8dbf3b26cb28800b7d3b486ae7e7c8859a5748\n",
      "  Building wheel for torchfile (setup.py): started\n",
      "  Building wheel for torchfile (setup.py): finished with status 'done'\n",
      "  Created wheel for torchfile: filename=torchfile-0.1.0-py3-none-any.whl size=5716 sha256=c009d22c9369aec384fb8fccbe9ff1ad1349a6bcef8e7f456c176bc2eed3a3f2\n",
      "  Stored in directory: c:\\users\\akshay giridhar\\appdata\\local\\pip\\cache\\wheels\\b9\\99\\d1\\9f3f4411a958a22ccf782e33c7238a07f04a9597f2f3b38792\n",
      "Successfully built visdom torchfile\n",
      "Installing collected packages: dominate, jsonpointer, jsonpatch, torchfile, websocket-client, visdom\n",
      "Successfully installed dominate-2.6.0 jsonpatch-1.31 jsonpointer-2.0 torchfile-0.1.0 visdom-0.1.8.9 websocket-client-0.58.0\n"
     ]
    }
   ],
   "source": [
    "!pip install -r requirements.txt"
   ]
  },
  {
   "cell_type": "markdown",
   "metadata": {
    "id": "8daqlgVhw29P"
   },
   "source": [
    "# Datasets\n",
    "\n",
    "Download one of the official datasets with:\n",
    "\n",
    "-   `bash ./datasets/download_cyclegan_dataset.sh [apple2orange, orange2apple, summer2winter_yosemite, winter2summer_yosemite, horse2zebra, zebra2horse, monet2photo, style_monet, style_cezanne, style_ukiyoe, style_vangogh, sat2map, map2sat, cityscapes_photo2label, cityscapes_label2photo, facades_photo2label, facades_label2photo, iphone2dslr_flower]`\n",
    "\n",
    "Or use your own dataset by creating the appropriate folders and adding in the images.\n",
    "\n",
    "-   Create a dataset folder under `/dataset` for your dataset.\n",
    "-   Create subfolders `testA`, `testB`, `trainA`, and `trainB` under your dataset's folder. Place any images you want to transform from a to b (cat2dog) in the `testA` folder, images you want to transform from b to a (dog2cat) in the `testB` folder, and do the same for the `trainA` and `trainB` folders."
   ]
  },
  {
   "cell_type": "code",
   "execution_count": 4,
   "metadata": {
    "colab": {
     "base_uri": "https://localhost:8080/"
    },
    "id": "vrdOettJxaCc",
    "outputId": "55ff694c-5ea4-4d47-ac61-18f3d13add07"
   },
   "outputs": [
    {
     "name": "stderr",
     "output_type": "stream",
     "text": [
      "'bash' is not recognized as an internal or external command,\n",
      "operable program or batch file.\n"
     ]
    }
   ],
   "source": [
    "!bash ./datasets/download_cyclegan_dataset.sh horse2zebra"
   ]
  },
  {
   "cell_type": "markdown",
   "metadata": {
    "id": "gdUz4116xhpm"
   },
   "source": [
    "# Pretrained models\n",
    "\n",
    "Download one of the official pretrained models with:\n",
    "\n",
    "-   `bash ./scripts/download_cyclegan_model.sh [apple2orange, orange2apple, summer2winter_yosemite, winter2summer_yosemite, horse2zebra, zebra2horse, monet2photo, style_monet, style_cezanne, style_ukiyoe, style_vangogh, sat2map, map2sat, cityscapes_photo2label, cityscapes_label2photo, facades_photo2label, facades_label2photo, iphone2dslr_flower]`\n",
    "\n",
    "Or add your own pretrained model to `./checkpoints/{NAME}_pretrained/latest_net_G.pt`"
   ]
  },
  {
   "cell_type": "code",
   "execution_count": 5,
   "metadata": {
    "colab": {
     "base_uri": "https://localhost:8080/"
    },
    "id": "B75UqtKhxznS",
    "outputId": "8d36752f-dd3e-4c6a-9e2d-4d412a889c5a"
   },
   "outputs": [
    {
     "name": "stderr",
     "output_type": "stream",
     "text": [
      "'bash' is not recognized as an internal or external command,\n",
      "operable program or batch file.\n"
     ]
    }
   ],
   "source": [
    "!bash ./scripts/download_cyclegan_model.sh horse2zebra"
   ]
  },
  {
   "cell_type": "markdown",
   "metadata": {
    "id": "yFw1kDQBx3LN"
   },
   "source": [
    "# Training\n",
    "\n",
    "-   `python train.py --dataroot ./datasets/horse2zebra --name horse2zebra --model cycle_gan`\n",
    "\n",
    "Change the `--dataroot` and `--name` to your own dataset's path and model's name. Use `--gpu_ids 0,1,..` to train on multiple GPUs and `--batch_size` to change the batch size. I've found that a batch size of 16 fits onto 4 V100s and can finish training an epoch in ~90s.\n",
    "\n",
    "Once your model has trained, copy over the last checkpoint to a format that the testing model can automatically detect:\n",
    "\n",
    "Use `cp ./checkpoints/horse2zebra/latest_net_G_A.pth ./checkpoints/horse2zebra/latest_net_G.pth` if you want to transform images from class A to class B and `cp ./checkpoints/horse2zebra/latest_net_G_B.pth ./checkpoints/horse2zebra/latest_net_G.pth` if you want to transform images from class B to class A.\n"
   ]
  },
  {
   "cell_type": "code",
   "execution_count": 6,
   "metadata": {
    "colab": {
     "base_uri": "https://localhost:8080/"
    },
    "id": "0sp7TCT2x9dB",
    "outputId": "cf448390-4b62-413f-d09d-c09283102f0b"
   },
   "outputs": [
    {
     "name": "stderr",
     "output_type": "stream",
     "text": [
      "Traceback (most recent call last):\n",
      "  File \"train.py\", line 22, in <module>\n",
      "    from options.train_options import TrainOptions\n",
      "  File \"C:\\Users\\Akshay Giridhar\\Desktop\\workspace\\Indian Navy\\pytorch-CycleGAN-and-pix2pix\\options\\train_options.py\", line 1, in <module>\n",
      "    from .base_options import BaseOptions\n",
      "  File \"C:\\Users\\Akshay Giridhar\\Desktop\\workspace\\Indian Navy\\pytorch-CycleGAN-and-pix2pix\\options\\base_options.py\", line 6, in <module>\n",
      "    import data\n",
      "  File \"C:\\Users\\Akshay Giridhar\\Desktop\\workspace\\Indian Navy\\pytorch-CycleGAN-and-pix2pix\\data\\__init__.py\", line 15, in <module>\n",
      "    from data.base_dataset import BaseDataset\n",
      "  File \"C:\\Users\\Akshay Giridhar\\Desktop\\workspace\\Indian Navy\\pytorch-CycleGAN-and-pix2pix\\data\\base_dataset.py\", line 9, in <module>\n",
      "    import torchvision.transforms as transforms\n",
      "  File \"C:\\Users\\Akshay Giridhar\\Downloads\\anaconda\\lib\\site-packages\\torchvision\\__init__.py\", line 6, in <module>\n",
      "    from torchvision import models\n",
      "  File \"C:\\Users\\Akshay Giridhar\\Downloads\\anaconda\\lib\\site-packages\\torchvision\\models\\__init__.py\", line 12, in <module>\n",
      "    from . import detection\n",
      "  File \"C:\\Users\\Akshay Giridhar\\Downloads\\anaconda\\lib\\site-packages\\torchvision\\models\\detection\\__init__.py\", line 1, in <module>\n",
      "    from .faster_rcnn import *\n",
      "  File \"C:\\Users\\Akshay Giridhar\\Downloads\\anaconda\\lib\\site-packages\\torchvision\\models\\detection\\faster_rcnn.py\", line 7, in <module>\n",
      "    from torchvision.ops import misc as misc_nn_ops\n",
      "  File \"C:\\Users\\Akshay Giridhar\\Downloads\\anaconda\\lib\\site-packages\\torchvision\\ops\\__init__.py\", line 1, in <module>\n",
      "    from .boxes import nms, batched_nms, remove_small_boxes, clip_boxes_to_image, box_area, box_iou, generalized_box_iou\n",
      "  File \"C:\\Users\\Akshay Giridhar\\Downloads\\anaconda\\lib\\site-packages\\torchvision\\ops\\boxes.py\", line 45, in <module>\n",
      "    @torch.jit._script_if_tracing\n",
      "AttributeError: module 'torch.jit' has no attribute '_script_if_tracing'\n"
     ]
    }
   ],
   "source": [
    "!python train.py --dataroot ./datasets/horse2zebra --name horse2zebra --model cycle_gan"
   ]
  },
  {
   "cell_type": "markdown",
   "metadata": {
    "id": "9UkcaFZiyASl"
   },
   "source": [
    "# Testing\n",
    "\n",
    "-   `python test.py --dataroot datasets/horse2zebra/testA --name horse2zebra_pretrained --model test --no_dropout`\n",
    "\n",
    "Change the `--dataroot` and `--name` to be consistent with your trained model's configuration.\n",
    "\n",
    "> from https://github.com/junyanz/pytorch-CycleGAN-and-pix2pix:\n",
    "> The option --model test is used for generating results of CycleGAN only for one side. This option will automatically set --dataset_mode single, which only loads the images from one set. On the contrary, using --model cycle_gan requires loading and generating results in both directions, which is sometimes unnecessary. The results will be saved at ./results/. Use --results_dir {directory_path_to_save_result} to specify the results directory.\n",
    "\n",
    "> For your own experiments, you might want to specify --netG, --norm, --no_dropout to match the generator architecture of the trained model."
   ]
  },
  {
   "cell_type": "code",
   "execution_count": 7,
   "metadata": {
    "id": "uCsKkEq0yGh0"
   },
   "outputs": [
    {
     "name": "stderr",
     "output_type": "stream",
     "text": [
      "Traceback (most recent call last):\n",
      "  File \"test.py\", line 30, in <module>\n",
      "    from options.test_options import TestOptions\n",
      "  File \"C:\\Users\\Akshay Giridhar\\Desktop\\workspace\\Indian Navy\\pytorch-CycleGAN-and-pix2pix\\options\\test_options.py\", line 1, in <module>\n",
      "    from .base_options import BaseOptions\n",
      "  File \"C:\\Users\\Akshay Giridhar\\Desktop\\workspace\\Indian Navy\\pytorch-CycleGAN-and-pix2pix\\options\\base_options.py\", line 6, in <module>\n",
      "    import data\n",
      "  File \"C:\\Users\\Akshay Giridhar\\Desktop\\workspace\\Indian Navy\\pytorch-CycleGAN-and-pix2pix\\data\\__init__.py\", line 15, in <module>\n",
      "    from data.base_dataset import BaseDataset\n",
      "  File \"C:\\Users\\Akshay Giridhar\\Desktop\\workspace\\Indian Navy\\pytorch-CycleGAN-and-pix2pix\\data\\base_dataset.py\", line 9, in <module>\n",
      "    import torchvision.transforms as transforms\n",
      "  File \"C:\\Users\\Akshay Giridhar\\Downloads\\anaconda\\lib\\site-packages\\torchvision\\__init__.py\", line 6, in <module>\n",
      "    from torchvision import models\n",
      "  File \"C:\\Users\\Akshay Giridhar\\Downloads\\anaconda\\lib\\site-packages\\torchvision\\models\\__init__.py\", line 12, in <module>\n",
      "    from . import detection\n",
      "  File \"C:\\Users\\Akshay Giridhar\\Downloads\\anaconda\\lib\\site-packages\\torchvision\\models\\detection\\__init__.py\", line 1, in <module>\n",
      "    from .faster_rcnn import *\n",
      "  File \"C:\\Users\\Akshay Giridhar\\Downloads\\anaconda\\lib\\site-packages\\torchvision\\models\\detection\\faster_rcnn.py\", line 7, in <module>\n",
      "    from torchvision.ops import misc as misc_nn_ops\n",
      "  File \"C:\\Users\\Akshay Giridhar\\Downloads\\anaconda\\lib\\site-packages\\torchvision\\ops\\__init__.py\", line 1, in <module>\n",
      "    from .boxes import nms, batched_nms, remove_small_boxes, clip_boxes_to_image, box_area, box_iou, generalized_box_iou\n",
      "  File \"C:\\Users\\Akshay Giridhar\\Downloads\\anaconda\\lib\\site-packages\\torchvision\\ops\\boxes.py\", line 45, in <module>\n",
      "    @torch.jit._script_if_tracing\n",
      "AttributeError: module 'torch.jit' has no attribute '_script_if_tracing'\n"
     ]
    }
   ],
   "source": [
    "!python test.py --dataroot datasets/horse2zebra/testA --name horse2zebra_pretrained --model test --no_dropout"
   ]
  },
  {
   "cell_type": "markdown",
   "metadata": {
    "id": "OzSKIPUByfiN"
   },
   "source": [
    "# Visualize"
   ]
  },
  {
   "cell_type": "code",
   "execution_count": 8,
   "metadata": {
    "id": "9Mgg8raPyizq"
   },
   "outputs": [
    {
     "ename": "FileNotFoundError",
     "evalue": "[Errno 2] No such file or directory: './results/horse2zebra_pretrained/test_latest/images/n02381460_1010_fake.png'",
     "output_type": "error",
     "traceback": [
      "\u001b[1;31m---------------------------------------------------------------------------\u001b[0m",
      "\u001b[1;31mFileNotFoundError\u001b[0m                         Traceback (most recent call last)",
      "\u001b[1;32m<ipython-input-8-469f685ff4ed>\u001b[0m in \u001b[0;36m<module>\u001b[1;34m\u001b[0m\n\u001b[0;32m      1\u001b[0m \u001b[1;32mimport\u001b[0m \u001b[0mmatplotlib\u001b[0m\u001b[1;33m.\u001b[0m\u001b[0mpyplot\u001b[0m \u001b[1;32mas\u001b[0m \u001b[0mplt\u001b[0m\u001b[1;33m\u001b[0m\u001b[1;33m\u001b[0m\u001b[0m\n\u001b[0;32m      2\u001b[0m \u001b[1;33m\u001b[0m\u001b[0m\n\u001b[1;32m----> 3\u001b[1;33m \u001b[0mimg\u001b[0m \u001b[1;33m=\u001b[0m \u001b[0mplt\u001b[0m\u001b[1;33m.\u001b[0m\u001b[0mimread\u001b[0m\u001b[1;33m(\u001b[0m\u001b[1;34m'./results/horse2zebra_pretrained/test_latest/images/n02381460_1010_fake.png'\u001b[0m\u001b[1;33m)\u001b[0m\u001b[1;33m\u001b[0m\u001b[1;33m\u001b[0m\u001b[0m\n\u001b[0m\u001b[0;32m      4\u001b[0m \u001b[0mplt\u001b[0m\u001b[1;33m.\u001b[0m\u001b[0mimshow\u001b[0m\u001b[1;33m(\u001b[0m\u001b[0mimg\u001b[0m\u001b[1;33m)\u001b[0m\u001b[1;33m\u001b[0m\u001b[1;33m\u001b[0m\u001b[0m\n",
      "\u001b[1;32m~\\Downloads\\anaconda\\lib\\site-packages\\matplotlib\\pyplot.py\u001b[0m in \u001b[0;36mimread\u001b[1;34m(fname, format)\u001b[0m\n\u001b[0;32m   2244\u001b[0m \u001b[1;33m@\u001b[0m\u001b[0m_copy_docstring_and_deprecators\u001b[0m\u001b[1;33m(\u001b[0m\u001b[0mmatplotlib\u001b[0m\u001b[1;33m.\u001b[0m\u001b[0mimage\u001b[0m\u001b[1;33m.\u001b[0m\u001b[0mimread\u001b[0m\u001b[1;33m)\u001b[0m\u001b[1;33m\u001b[0m\u001b[1;33m\u001b[0m\u001b[0m\n\u001b[0;32m   2245\u001b[0m \u001b[1;32mdef\u001b[0m \u001b[0mimread\u001b[0m\u001b[1;33m(\u001b[0m\u001b[0mfname\u001b[0m\u001b[1;33m,\u001b[0m \u001b[0mformat\u001b[0m\u001b[1;33m=\u001b[0m\u001b[1;32mNone\u001b[0m\u001b[1;33m)\u001b[0m\u001b[1;33m:\u001b[0m\u001b[1;33m\u001b[0m\u001b[1;33m\u001b[0m\u001b[0m\n\u001b[1;32m-> 2246\u001b[1;33m     \u001b[1;32mreturn\u001b[0m \u001b[0mmatplotlib\u001b[0m\u001b[1;33m.\u001b[0m\u001b[0mimage\u001b[0m\u001b[1;33m.\u001b[0m\u001b[0mimread\u001b[0m\u001b[1;33m(\u001b[0m\u001b[0mfname\u001b[0m\u001b[1;33m,\u001b[0m \u001b[0mformat\u001b[0m\u001b[1;33m)\u001b[0m\u001b[1;33m\u001b[0m\u001b[1;33m\u001b[0m\u001b[0m\n\u001b[0m\u001b[0;32m   2247\u001b[0m \u001b[1;33m\u001b[0m\u001b[0m\n\u001b[0;32m   2248\u001b[0m \u001b[1;33m\u001b[0m\u001b[0m\n",
      "\u001b[1;32m~\\Downloads\\anaconda\\lib\\site-packages\\matplotlib\\image.py\u001b[0m in \u001b[0;36mimread\u001b[1;34m(fname, format)\u001b[0m\n\u001b[0;32m   1488\u001b[0m                     \u001b[0mresponse\u001b[0m \u001b[1;33m=\u001b[0m \u001b[0mio\u001b[0m\u001b[1;33m.\u001b[0m\u001b[0mBytesIO\u001b[0m\u001b[1;33m(\u001b[0m\u001b[0mresponse\u001b[0m\u001b[1;33m.\u001b[0m\u001b[0mread\u001b[0m\u001b[1;33m(\u001b[0m\u001b[1;33m)\u001b[0m\u001b[1;33m)\u001b[0m\u001b[1;33m\u001b[0m\u001b[1;33m\u001b[0m\u001b[0m\n\u001b[0;32m   1489\u001b[0m                 \u001b[1;32mreturn\u001b[0m \u001b[0mimread\u001b[0m\u001b[1;33m(\u001b[0m\u001b[0mresponse\u001b[0m\u001b[1;33m,\u001b[0m \u001b[0mformat\u001b[0m\u001b[1;33m=\u001b[0m\u001b[0mext\u001b[0m\u001b[1;33m)\u001b[0m\u001b[1;33m\u001b[0m\u001b[1;33m\u001b[0m\u001b[0m\n\u001b[1;32m-> 1490\u001b[1;33m     \u001b[1;32mwith\u001b[0m \u001b[0mimg_open\u001b[0m\u001b[1;33m(\u001b[0m\u001b[0mfname\u001b[0m\u001b[1;33m)\u001b[0m \u001b[1;32mas\u001b[0m \u001b[0mimage\u001b[0m\u001b[1;33m:\u001b[0m\u001b[1;33m\u001b[0m\u001b[1;33m\u001b[0m\u001b[0m\n\u001b[0m\u001b[0;32m   1491\u001b[0m         return (_pil_png_to_float_array(image)\n\u001b[0;32m   1492\u001b[0m                 \u001b[1;32mif\u001b[0m \u001b[0misinstance\u001b[0m\u001b[1;33m(\u001b[0m\u001b[0mimage\u001b[0m\u001b[1;33m,\u001b[0m \u001b[0mPIL\u001b[0m\u001b[1;33m.\u001b[0m\u001b[0mPngImagePlugin\u001b[0m\u001b[1;33m.\u001b[0m\u001b[0mPngImageFile\u001b[0m\u001b[1;33m)\u001b[0m \u001b[1;32melse\u001b[0m\u001b[1;33m\u001b[0m\u001b[1;33m\u001b[0m\u001b[0m\n",
      "\u001b[1;32m~\\Downloads\\anaconda\\lib\\site-packages\\PIL\\ImageFile.py\u001b[0m in \u001b[0;36m__init__\u001b[1;34m(self, fp, filename)\u001b[0m\n\u001b[0;32m    107\u001b[0m         \u001b[1;32mif\u001b[0m \u001b[0misPath\u001b[0m\u001b[1;33m(\u001b[0m\u001b[0mfp\u001b[0m\u001b[1;33m)\u001b[0m\u001b[1;33m:\u001b[0m\u001b[1;33m\u001b[0m\u001b[1;33m\u001b[0m\u001b[0m\n\u001b[0;32m    108\u001b[0m             \u001b[1;31m# filename\u001b[0m\u001b[1;33m\u001b[0m\u001b[1;33m\u001b[0m\u001b[1;33m\u001b[0m\u001b[0m\n\u001b[1;32m--> 109\u001b[1;33m             \u001b[0mself\u001b[0m\u001b[1;33m.\u001b[0m\u001b[0mfp\u001b[0m \u001b[1;33m=\u001b[0m \u001b[0mopen\u001b[0m\u001b[1;33m(\u001b[0m\u001b[0mfp\u001b[0m\u001b[1;33m,\u001b[0m \u001b[1;34m\"rb\"\u001b[0m\u001b[1;33m)\u001b[0m\u001b[1;33m\u001b[0m\u001b[1;33m\u001b[0m\u001b[0m\n\u001b[0m\u001b[0;32m    110\u001b[0m             \u001b[0mself\u001b[0m\u001b[1;33m.\u001b[0m\u001b[0mfilename\u001b[0m \u001b[1;33m=\u001b[0m \u001b[0mfp\u001b[0m\u001b[1;33m\u001b[0m\u001b[1;33m\u001b[0m\u001b[0m\n\u001b[0;32m    111\u001b[0m             \u001b[0mself\u001b[0m\u001b[1;33m.\u001b[0m\u001b[0m_exclusive_fp\u001b[0m \u001b[1;33m=\u001b[0m \u001b[1;32mTrue\u001b[0m\u001b[1;33m\u001b[0m\u001b[1;33m\u001b[0m\u001b[0m\n",
      "\u001b[1;31mFileNotFoundError\u001b[0m: [Errno 2] No such file or directory: './results/horse2zebra_pretrained/test_latest/images/n02381460_1010_fake.png'"
     ]
    }
   ],
   "source": [
    "import matplotlib.pyplot as plt\n",
    "\n",
    "img = plt.imread('./results/horse2zebra_pretrained/test_latest/images/n02381460_1010_fake.png')\n",
    "plt.imshow(img)"
   ]
  },
  {
   "cell_type": "code",
   "execution_count": null,
   "metadata": {
    "id": "0G3oVH9DyqLQ"
   },
   "outputs": [],
   "source": [
    "import matplotlib.pyplot as plt\n",
    "\n",
    "img = plt.imread('./results/horse2zebra_pretrained/test_latest/images/n02381460_1010_real.png')\n",
    "plt.imshow(img)"
   ]
  },
  {
   "cell_type": "code",
   "execution_count": null,
   "metadata": {},
   "outputs": [],
   "source": []
  },
  {
   "cell_type": "code",
   "execution_count": null,
   "metadata": {},
   "outputs": [],
   "source": []
  },
  {
   "cell_type": "code",
   "execution_count": null,
   "metadata": {},
   "outputs": [],
   "source": []
  }
 ],
 "metadata": {
  "accelerator": "GPU",
  "colab": {
   "collapsed_sections": [],
   "name": "CycleGAN",
   "provenance": []
  },
  "kernelspec": {
   "display_name": "Python 3",
   "language": "python",
   "name": "python3"
  },
  "language_info": {
   "codemirror_mode": {
    "name": "ipython",
    "version": 3
   },
   "file_extension": ".py",
   "mimetype": "text/x-python",
   "name": "python",
   "nbconvert_exporter": "python",
   "pygments_lexer": "ipython3",
   "version": "3.8.5"
  }
 },
 "nbformat": 4,
 "nbformat_minor": 1
}
